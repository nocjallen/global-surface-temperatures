{
 "cells": [
  {
   "cell_type": "code",
   "execution_count": null,
   "metadata": {},
   "outputs": [],
   "source": [
    "import pandas as pd\n",
    "import sqlite3\n",
    "\n",
    "#Create a pandas dataframe and load a CSV data set, using only the specified columns.\n",
    "df = pd.read_csv('global_surface_temperatures.csv', usecols = ['dt', 'LandAverageTemperature'])\n",
    "\n",
    "#Create a new connection to a sqlite database stored in memory.\n",
    "connection = sqlite3.connect(':memory:')\n",
    "cursor = connection.cursor()\n",
    "\n",
    "#Create a new table in the database.\n",
    "cursor.execute(\"CREATE TABLE temperatures (date TEXT, temp FLOAT)\")\n",
    "\n",
    "#Insert each row of the dataframe into the database.\n",
    "for index, row in df.iterrows():\n",
    "    cursor.execute(\"INSERT INTO temperatures VALUES (?, ?);\", (row['dt'], row['LandAverageTemperature']))\n",
    "\n",
    "#Commit changes to database.\n",
    "connection.commit()\n",
    "\n",
    "#Select all dates on or after 1850.\n",
    "for row in cursor.execute(\"SELECT * FROM temperatures WHERE date >= '1850-01-01';\"):\n",
    "    print(row)\n",
    "\n",
    "\n",
    "\n",
    "    "
   ]
  },
  {
   "cell_type": "code",
   "execution_count": null,
   "metadata": {},
   "outputs": [],
   "source": []
  }
 ],
 "metadata": {
  "kernelspec": {
   "display_name": "Python 3",
   "language": "python",
   "name": "python3"
  },
  "language_info": {
   "codemirror_mode": {
    "name": "ipython",
    "version": 3
   },
   "file_extension": ".py",
   "mimetype": "text/x-python",
   "name": "python",
   "nbconvert_exporter": "python",
   "pygments_lexer": "ipython3",
   "version": "3.7.4"
  }
 },
 "nbformat": 4,
 "nbformat_minor": 2
}
