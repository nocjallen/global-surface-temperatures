{
 "cells": [
  {
   "cell_type": "code",
   "execution_count": null,
   "metadata": {
    "scrolled": true
   },
   "outputs": [],
   "source": [
    "import pandas as pd\n",
    "import sqlite3\n",
    "\n",
    "#Create a pandas dataframe and load a CSV data set, using only the specified columns.\n",
    "df = pd.read_csv('global_surface_temperatures.csv', usecols = ['dt', 'LandAverageTemperature'])\n",
    "\n",
    "#Rename the columns in the dataframe.\n",
    "df = df.rename(columns={\"dt\": \"date\", \"LandAverageTemperature\": \"temp\"})\n",
    "\n",
    "#Create a connection to a sqlite database stored in memory.\n",
    "db = sqlite3.connect(':memory:')\n",
    "\n",
    "#Load the dataframe into the database.\n",
    "df.to_sql('temperatures', db, if_exists='replace')\n",
    "\n",
    "#Commit changes to database.\n",
    "db.commit()\n",
    "    \n",
    "#Query to select, average, and group temperatures, by year, on or after 1850.\n",
    "query = (\"\"\"SELECT ROUND(AVG(temp), 2) AS 'Average Temp', STRFTIME('%Y', date) AS 'Year'\n",
    "            FROM temperatures\n",
    "            WHERE Year >= '1850'\n",
    "            GROUP BY Year;\"\"\")\n",
    "\n",
    "#Display the query in a pandas dataframe.\n",
    "pd.read_sql_query(query,db)\n",
    "\n",
    "    "
   ]
  },
  {
   "cell_type": "code",
   "execution_count": null,
   "metadata": {},
   "outputs": [],
   "source": []
  }
 ],
 "metadata": {
  "kernelspec": {
   "display_name": "Python 3",
   "language": "python",
   "name": "python3"
  },
  "language_info": {
   "codemirror_mode": {
    "name": "ipython",
    "version": 3
   },
   "file_extension": ".py",
   "mimetype": "text/x-python",
   "name": "python",
   "nbconvert_exporter": "python",
   "pygments_lexer": "ipython3",
   "version": "3.7.4"
  }
 },
 "nbformat": 4,
 "nbformat_minor": 2
}
